{
 "cells": [
  {
   "cell_type": "code",
   "execution_count": 15,
   "metadata": {},
   "outputs": [],
   "source": [
    "from zlib import crc32\n",
    "\n",
    "import numpy as np\n",
    "import matplotlib.pylab as plt\n",
    "from matplotlib import gridspec\n",
    "import pandas as pd\n",
    "import scipy.stats as st\n",
    "import seaborn as sns\n",
    "import itertools\n",
    "from itertools import combinations\n",
    "from  statsmodels.stats.weightstats import ttest_ind\n",
    "from statsmodels.stats.multitest import multipletests"
   ]
  },
  {
   "cell_type": "code",
   "execution_count": 3,
   "metadata": {},
   "outputs": [],
   "source": [
    "#Генерируем выборку\n",
    "import re\n",
    "EMAIL_REGEX = re.compile(r\"[^@]+@phystech.edu\")\n",
    "\n",
    "def generate_dataset(code):\n",
    "    rs = np.random.RandomState(code)\n",
    "    size = rs.randint(low=5, high=10)\n",
    "    data = rs.randn(30, size)\n",
    "    for i in range(size):\n",
    "        data[:, i] += rs.uniform()*2-1.0\n",
    "    return data"
   ]
  },
  {
   "cell_type": "code",
   "execution_count": 4,
   "metadata": {},
   "outputs": [
    {
     "name": "stdout",
     "output_type": "stream",
     "text": [
      "Enter your mail: salnikov.an@phystech.edu\n"
     ]
    }
   ],
   "source": [
    "task = dict()\n",
    "task['mail'] = input(prompt='Enter your mail: ')\n",
    "assert EMAIL_REGEX.match(task['mail']), 'Not a mail in the phystech.edu domain'\n",
    "task['id'] = crc32(task['mail'].encode('utf-8'))\n",
    "task['data'] = generate_dataset(task['id'])"
   ]
  },
  {
   "cell_type": "code",
   "execution_count": 12,
   "metadata": {},
   "outputs": [],
   "source": [
    "data = task['data']\n",
    "#Для удобной работы со столбцами\n",
    "ndata = data.T"
   ]
  },
  {
   "cell_type": "code",
   "execution_count": 20,
   "metadata": {},
   "outputs": [
    {
     "name": "stdout",
     "output_type": "stream",
     "text": [
      "Rejections = 17\n"
     ]
    }
   ],
   "source": [
    "#t-test о сравнении средних всех пар из столбцов выборки\n",
    "def test(ndata):\n",
    "    rejections = 0\n",
    "    p_values = []\n",
    "    for x, y in combinations(ndata, 2):\n",
    "        p_value = st.ttest_ind(x, y)[1]\n",
    "        p_values.append(p_value)\n",
    "        rejections += p_value <= 0.05\n",
    "    return rejections, p_values\n",
    "print('Rejections = {}'.format(test(ndata)[0]))"
   ]
  },
  {
   "cell_type": "code",
   "execution_count": 28,
   "metadata": {},
   "outputs": [
    {
     "name": "stdout",
     "output_type": "stream",
     "text": [
      "P_value = 0.0017857142857142859\n"
     ]
    }
   ],
   "source": [
    "#Уровень значимости при использовании поправки Бонферрони\n",
    "print('P_value = {}'.format(multipletests(test(ndata)[1], method='bonferroni')[-1])) "
   ]
  },
  {
   "cell_type": "code",
   "execution_count": 29,
   "metadata": {},
   "outputs": [
    {
     "name": "stdout",
     "output_type": "stream",
     "text": [
      "Rejections = 14\n"
     ]
    }
   ],
   "source": [
    "#Кол-во пар из столбцов, для которых отвергается гипотеза о совпадении среднего при использовании поправки Бонферрони\n",
    "print('Rejections = {}'.format(multipletests(test(ndata)[1], method='bonferroni')[0].sum()))"
   ]
  },
  {
   "cell_type": "code",
   "execution_count": 30,
   "metadata": {},
   "outputs": [
    {
     "name": "stdout",
     "output_type": "stream",
     "text": [
      "Rejections = 14\n"
     ]
    }
   ],
   "source": [
    "#Кол-во пар из столбцов, для которых отвергается гипотеза о совпадении среднего при использовании метода Холма\n",
    "print('Rejections = {}'.format(multipletests(test(ndata)[1], method='holm')[0].sum()))"
   ]
  },
  {
   "cell_type": "code",
   "execution_count": 32,
   "metadata": {},
   "outputs": [
    {
     "name": "stdout",
     "output_type": "stream",
     "text": [
      "m0 = 6.0\n"
     ]
    }
   ],
   "source": [
    "#Оценка m0 по методу Шведера-Спьётволла (lambda = 0.5)\n",
    "l = 0.5\n",
    "m0 = (sum([1 for x in test(ndata)[1] if x > l]) + 1) / (1 - l)\n",
    "print('m0 = {}'.format(m0))"
   ]
  },
  {
   "cell_type": "code",
   "execution_count": null,
   "metadata": {},
   "outputs": [],
   "source": []
  }
 ],
 "metadata": {
  "kernelspec": {
   "display_name": "Python 3",
   "language": "python",
   "name": "python3"
  },
  "language_info": {
   "codemirror_mode": {
    "name": "ipython",
    "version": 3
   },
   "file_extension": ".py",
   "mimetype": "text/x-python",
   "name": "python",
   "nbconvert_exporter": "python",
   "pygments_lexer": "ipython3",
   "version": "3.7.6"
  }
 },
 "nbformat": 4,
 "nbformat_minor": 4
}
