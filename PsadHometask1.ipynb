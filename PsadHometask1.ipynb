{
 "cells": [
  {
   "cell_type": "code",
   "execution_count": 1,
   "metadata": {},
   "outputs": [],
   "source": [
    "import numpy as np\n",
    "import matplotlib.pylab as plt\n",
    "from matplotlib import gridspec\n",
    "import pandas as pd\n",
    "import scipy.stats as st\n",
    "import seaborn as sns"
   ]
  },
  {
   "cell_type": "code",
   "execution_count": 61,
   "metadata": {},
   "outputs": [],
   "source": [
    "data = pd.read_csv('s.csv')\n",
    "datan = data.to_numpy()"
   ]
  },
  {
   "cell_type": "code",
   "execution_count": 62,
   "metadata": {},
   "outputs": [
    {
     "name": "stdout",
     "output_type": "stream",
     "text": [
      "mean=1.5499602701628923\n"
     ]
    }
   ],
   "source": [
    "#Среднее\n",
    "print('mean={}'.format(np.mean(datan)))"
   ]
  },
  {
   "cell_type": "code",
   "execution_count": 63,
   "metadata": {},
   "outputs": [
    {
     "name": "stdout",
     "output_type": "stream",
     "text": [
      "median=0.0\n"
     ]
    }
   ],
   "source": [
    "#Медиана\n",
    "print('median={}'.format(np.median(datan)))"
   ]
  },
  {
   "cell_type": "code",
   "execution_count": 64,
   "metadata": {},
   "outputs": [
    {
     "name": "stdout",
     "output_type": "stream",
     "text": [
      "std=143.582094377339\n"
     ]
    }
   ],
   "source": [
    "#Дисперсия\n",
    "print('std={}'.format(np.std(datan)))"
   ]
  },
  {
   "cell_type": "code",
   "execution_count": 65,
   "metadata": {},
   "outputs": [
    {
     "name": "stdout",
     "output_type": "stream",
     "text": [
      "median=127.0\n"
     ]
    }
   ],
   "source": [
    "#Медиана для неотрицательных\n",
    "ind = np.where(datan >= 0)[0] \n",
    "print('median={}'.format(np.median(datan[ind])))"
   ]
  },
  {
   "cell_type": "code",
   "execution_count": 81,
   "metadata": {},
   "outputs": [
    {
     "name": "stdout",
     "output_type": "stream",
     "text": [
      "mode=ModeResult(mode=array([[-120.]]), count=array([[36]]))\n"
     ]
    }
   ],
   "source": [
    "#Мода (максимальная, убрать минус) + число элементов моды\n",
    "print('mode={}'.format(st.mode(-datan)))"
   ]
  },
  {
   "cell_type": "code",
   "execution_count": 87,
   "metadata": {},
   "outputs": [
    {
     "name": "stdout",
     "output_type": "stream",
     "text": [
      "Моды: [-134.  -74.  -63.    0.  120.]\n",
      "Число мод: 5\n"
     ]
    }
   ],
   "source": [
    "#Число мод\n",
    "nums, counts = np.unique(datan, return_counts = True)\n",
    "ind2 = np.where(counts == 36)[0]\n",
    "modes = nums[ind2]\n",
    "print('Моды: {}'.format(modes))\n",
    "print('Число мод: {}'.format(modes.shape[0]))"
   ]
  },
  {
   "cell_type": "code",
   "execution_count": 73,
   "metadata": {},
   "outputs": [
    {
     "name": "stdout",
     "output_type": "stream",
     "text": [
      "-248.0\n"
     ]
    }
   ],
   "source": [
    "#42я порядковая статистика\n",
    "sorteddatan = np.sort(datan, axis = None)\n",
    "print(sorteddatan[41])"
   ]
  },
  {
   "cell_type": "code",
   "execution_count": null,
   "metadata": {},
   "outputs": [],
   "source": []
  }
 ],
 "metadata": {
  "kernelspec": {
   "display_name": "Python 3",
   "language": "python",
   "name": "python3"
  },
  "language_info": {
   "codemirror_mode": {
    "name": "ipython",
    "version": 3
   },
   "file_extension": ".py",
   "mimetype": "text/x-python",
   "name": "python",
   "nbconvert_exporter": "python",
   "pygments_lexer": "ipython3",
   "version": "3.7.6"
  }
 },
 "nbformat": 4,
 "nbformat_minor": 4
}
