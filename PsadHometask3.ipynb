{
 "cells": [
  {
   "cell_type": "code",
   "execution_count": 1,
   "metadata": {},
   "outputs": [],
   "source": [
    "from zlib import crc32\n",
    "\n",
    "import numpy as np\n",
    "import matplotlib.pylab as plt\n",
    "from matplotlib import gridspec\n",
    "import pandas as pd\n",
    "import scipy.stats as st\n",
    "import seaborn as sns\n",
    "import itertools"
   ]
  },
  {
   "cell_type": "code",
   "execution_count": 2,
   "metadata": {},
   "outputs": [],
   "source": [
    "#Генерируем выборку\n",
    "import re\n",
    "EMAIL_REGEX = re.compile(r\"[^@]+@phystech.edu\")\n",
    "\n",
    "def generate_dataset(code):\n",
    "    rs = np.random.RandomState(code%(2**32-1))\n",
    "    ars = np.random.RandomState(code%(2**16-1))\n",
    "    if rs.randint(low=0, high=2) == 0:\n",
    "        while True:\n",
    "            data = rs.randn(20)\n",
    "            if st.shapiro(data)[1] > 0.2 or ars.binomial(100, 0.05) > 10:\n",
    "                break\n",
    "    else:\n",
    "        while True:\n",
    "            data = np.concatenate([rs.randn(6) - 2, rs.randn(6) + 2])\n",
    "            if st.shapiro(data)[1] < 0.01 or ars.binomial(100, 0.05) > 10:\n",
    "                break\n",
    "    return data"
   ]
  },
  {
   "cell_type": "code",
   "execution_count": 3,
   "metadata": {},
   "outputs": [
    {
     "name": "stdout",
     "output_type": "stream",
     "text": [
      "Enter your mail: salnikov.an@phystech.edu\n"
     ]
    }
   ],
   "source": [
    "task = dict()\n",
    "task['mail'] = input(prompt='Enter your mail: ')\n",
    "assert EMAIL_REGEX.match(task['mail']), 'Not a mail in the phystech.edu domain'\n",
    "task['id'] = crc32(task['mail'].encode('utf-8'))\n",
    "task['data'] = generate_dataset(task['id'])"
   ]
  },
  {
   "cell_type": "code",
   "execution_count": 4,
   "metadata": {},
   "outputs": [
    {
     "data": {
      "text/plain": [
       "{'mail': 'salnikov.an@phystech.edu',\n",
       " 'id': 3521459763,\n",
       " 'data': array([-2.28716849, -3.14184052, -2.72820726, -2.03504712, -2.95605959,\n",
       "        -3.07529924,  3.39724121,  3.36395748,  2.42328337,  2.34789355,\n",
       "         1.30952364,  3.30664915])}"
      ]
     },
     "execution_count": 4,
     "metadata": {},
     "output_type": "execute_result"
    }
   ],
   "source": [
    "task"
   ]
  },
  {
   "cell_type": "code",
   "execution_count": 5,
   "metadata": {},
   "outputs": [],
   "source": [
    "data = task['data']"
   ]
  },
  {
   "cell_type": "code",
   "execution_count": 6,
   "metadata": {},
   "outputs": [
    {
     "data": {
      "text/plain": [
       "array([-2.28716849, -3.14184052, -2.72820726, -2.03504712, -2.95605959,\n",
       "       -3.07529924,  3.39724121,  3.36395748,  2.42328337,  2.34789355,\n",
       "        1.30952364,  3.30664915])"
      ]
     },
     "execution_count": 6,
     "metadata": {},
     "output_type": "execute_result"
    }
   ],
   "source": [
    "data"
   ]
  },
  {
   "cell_type": "code",
   "execution_count": 7,
   "metadata": {},
   "outputs": [
    {
     "data": {
      "image/png": "[encoded data removed]",
      "text/plain": [
       "<Figure size 432x288 with 1 Axes>"
      ]
     },
     "metadata": {
      "needs_background": "light"
     },
     "output_type": "display_data"
    }
   ],
   "source": [
    "#Применим ли t-критерий Стьюдента? Да, если выборка нормальная. Проверяем это.\n",
    "\n",
    "plt.hist(data)\n",
    "plt.show()"
   ]
  },
  {
   "cell_type": "code",
   "execution_count": 8,
   "metadata": {},
   "outputs": [
    {
     "name": "stdout",
     "output_type": "stream",
     "text": [
      "p_value = 0.008095929399132729\n"
     ]
    }
   ],
   "source": [
    "#Очень не похоже на нормальную, применим критерий Шапиро-Уилка\n",
    "print('p_value = {}'.format(st.shapiro(data)[1]))"
   ]
  },
  {
   "cell_type": "code",
   "execution_count": 9,
   "metadata": {},
   "outputs": [],
   "source": [
    "#p_value < 0.05 -> Отвергаем гипотезу нормальности, t-критерий не применим"
   ]
  },
  {
   "cell_type": "code",
   "execution_count": 10,
   "metadata": {},
   "outputs": [
    {
     "name": "stdout",
     "output_type": "stream",
     "text": [
      "p_value = 0.791015625\n"
     ]
    }
   ],
   "source": [
    "#p-value для  критерия знаковых рангов Уилкоксона (m0=0)\n",
    "\n",
    "print('p_value = {}'.format(st.wilcoxon(data)[1]))"
   ]
  },
  {
   "cell_type": "code",
   "execution_count": 11,
   "metadata": {},
   "outputs": [
    {
     "name": "stdout",
     "output_type": "stream",
     "text": [
      "p_value = 1.0\n"
     ]
    }
   ],
   "source": [
    "#p-value для критерия знаков (m0=0)\n",
    "from statsmodels.stats.descriptivestats import sign_test\n",
    "print('p_value = {}'.format(sign_test(data)[1]))"
   ]
  },
  {
   "cell_type": "code",
   "execution_count": 12,
   "metadata": {},
   "outputs": [
    {
     "name": "stdout",
     "output_type": "stream",
     "text": [
      "Число перестановок = 4096\n"
     ]
    }
   ],
   "source": [
    "#Рассмотрим перестановочный критерий для среднего. Сколько перестановок требуется рассмотреть для данной выборки?\n",
    "print('Число перестановок = {}'.format(2**data.shape[0]))"
   ]
  },
  {
   "cell_type": "code",
   "execution_count": 13,
   "metadata": {},
   "outputs": [
    {
     "name": "stdout",
     "output_type": "stream",
     "text": [
      "good_count = 1111\n"
     ]
    }
   ],
   "source": [
    "#Рассмотрим перестановочный критерий для проверки среднего (m0=0.5)\n",
    "#Для какого количества перестановок статистика T будет иметь значение меньшее или равное статистике для оригинальной выборки?\n",
    "\n",
    "t = data - 0.5\n",
    "T = np.sum(t)\n",
    "count = 0\n",
    "good = 0\n",
    "for v in itertools.product([-1, 1], repeat=data.shape[0]):\n",
    "    count += 1\n",
    "    stat = np.dot(t, v)\n",
    "    if stat <= T:\n",
    "        good+=1\n",
    "    \n",
    "      \n",
    "print('good_count =', good)"
   ]
  },
  {
   "cell_type": "code",
   "execution_count": 14,
   "metadata": {},
   "outputs": [
    {
     "data": {
      "text/plain": [
       "array([-1.54145198,  1.5321717 ])"
      ]
     },
     "execution_count": 14,
     "metadata": {},
     "output_type": "execute_result"
    }
   ],
   "source": [
    "#Бутстреп\n",
    "rs = np.random.RandomState(0)\n",
    "\n",
    "ind = rs.randint(low=0, high=data.shape[0], size=(10000, data.shape[0]))\n",
    "results = []\n",
    "for i in ind:\n",
    "    sample = data[i]\n",
    "    results.append(sample.mean())\n",
    "\n",
    "np.percentile(results, [2.5, 97.5])"
   ]
  },
  {
   "cell_type": "code",
   "execution_count": null,
   "metadata": {},
   "outputs": [],
   "source": []
  }
 ],
 "metadata": {
  "kernelspec": {
   "display_name": "Python 3",
   "language": "python",
   "name": "python3"
  },
  "language_info": {
   "codemirror_mode": {
    "name": "ipython",
    "version": 3
   },
   "file_extension": ".py",
   "mimetype": "text/x-python",
   "name": "python",
   "nbconvert_exporter": "python",
   "pygments_lexer": "ipython3",
   "version": "3.7.6"
  }
 },
 "nbformat": 4,
 "nbformat_minor": 4
}
