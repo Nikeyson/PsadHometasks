{
 "cells": [
  {
   "cell_type": "code",
   "execution_count": 1,
   "metadata": {},
   "outputs": [],
   "source": [
    "import numpy as np\n",
    "import matplotlib.pylab as plt\n",
    "from matplotlib import gridspec\n",
    "import pandas as pd\n",
    "import scipy.stats as st\n",
    "import seaborn as sns"
   ]
  },
  {
   "cell_type": "code",
   "execution_count": 77,
   "metadata": {},
   "outputs": [],
   "source": [
    "data = pd.read_csv('https://raw.githubusercontent.com/Intelligent-Systems-Phystech/psad/master/hometask/sem2/salnikov.an@phystech.edu.csv', header = None).values[:, 0]"
   ]
  },
  {
   "cell_type": "code",
   "execution_count": 78,
   "metadata": {},
   "outputs": [
    {
     "data": {
      "text/plain": [
       "array([ 1.72473483, -0.96765355,  2.08600021,  0.95993746,  0.55472093,\n",
       "        2.06390229,  0.65170111,  2.26327554, -0.28553531,  1.40019314,\n",
       "        0.50065977,  1.89393116,  0.51503004,  1.65078967,  1.16922676,\n",
       "        1.54056434, -0.03597731,  0.70792024,  3.31225189,  1.06584195,\n",
       "        1.87376162, -0.81167178,  2.3524614 ,  0.89251308,  0.97338561,\n",
       "        2.50151434,  0.88810232,  2.86231706,  1.62212584,  0.67178728,\n",
       "        3.42810289,  0.52965084,  1.10710436,  1.43773587,  2.58649581,\n",
       "        0.44509202,  2.03795587,  0.73047632,  3.06916084,  1.33007221,\n",
       "        1.1852509 ,  1.54841471, -0.34727468,  1.07544649,  0.24229187,\n",
       "        1.59173568,  2.9119262 ,  2.00846515,  1.79989151,  1.58959689,\n",
       "       -0.1472494 ,  0.871047  ,  0.03889646,  2.01034603, -0.2562047 ,\n",
       "        0.93067245,  1.80330267,  1.13164099,  0.99157377,  1.40081852,\n",
       "        0.30445672, -0.06708676,  2.42931142,  0.8542936 ,  0.74439831,\n",
       "        1.69322543, -0.0788251 ,  0.41595011,  1.0109705 ,  1.80613081,\n",
       "        2.67609165,  1.70789724,  1.54888962,  1.85093179,  2.17250964,\n",
       "        2.34782715,  0.62457204,  0.94607807,  1.36463666,  1.24546418,\n",
       "        2.143709  , -1.01935238,  0.91925191,  1.04650728,  0.30797809,\n",
       "        2.195139  ,  0.85756947, -0.01453694,  0.85198042,  0.97102281,\n",
       "        0.07354659,  0.58034568,  1.39866936,  1.39122153,  0.67642634,\n",
       "        1.17264062,  0.88453233,  1.27311234, -0.06703592,  2.28373446])"
      ]
     },
     "execution_count": 78,
     "metadata": {},
     "output_type": "execute_result"
    }
   ],
   "source": [
    "data"
   ]
  },
  {
   "cell_type": "code",
   "execution_count": 79,
   "metadata": {},
   "outputs": [
    {
     "name": "stdout",
     "output_type": "stream",
     "text": [
      "mean = 1.1920443251180413\n"
     ]
    }
   ],
   "source": [
    "#Выборочное среднее\n",
    "print('mean = {}'.format(np.mean(data)))"
   ]
  },
  {
   "cell_type": "code",
   "execution_count": 80,
   "metadata": {},
   "outputs": [
    {
     "name": "stdout",
     "output_type": "stream",
     "text": [
      "std = 0.9183565923399709\n"
     ]
    }
   ],
   "source": [
    "#Стандартное отклонение, несмещенное (исправленная выборочная дисперсия)\n",
    "print('std = {}'.format(np.std(data, ddof = 1)))"
   ]
  },
  {
   "cell_type": "code",
   "execution_count": 81,
   "metadata": {},
   "outputs": [
    {
     "name": "stdout",
     "output_type": "stream",
     "text": [
      "Не противоречит гипотезе нормальности\n"
     ]
    }
   ],
   "source": [
    "#Тест Харке-Бера\n",
    "if (st.jarque_bera(data)[1] =< 0.05):\n",
    "    print(\"Отвергаем гипотезу нормальности\")\n",
    "else:\n",
    "    print(\"Не противоречит гипотезе нормальности\")"
   ]
  },
  {
   "cell_type": "code",
   "execution_count": 82,
   "metadata": {},
   "outputs": [
    {
     "name": "stdout",
     "output_type": "stream",
     "text": [
      "Не противоречит гипотезе нормальности\n"
     ]
    }
   ],
   "source": [
    "#Тест Шапиро-Уилка\n",
    "if (st.shapiro(data)[1] =< 0.05):\n",
    "    print(\"Отвергаем гипотезу нормальности\")\n",
    "else:\n",
    "    print(\"Не противоречит гипотезе нормальности\")"
   ]
  },
  {
   "cell_type": "code",
   "execution_count": 83,
   "metadata": {},
   "outputs": [
    {
     "data": {
      "text/plain": [
       "array([1, 0, 1, 1, 1, 1, 1, 1, 0, 1, 1, 1, 1, 1, 1, 1, 0, 1, 1, 1, 1, 0,\n",
       "       1, 1, 1, 1, 1, 1, 1, 1, 1, 1, 1, 1, 1, 1, 1, 1, 1, 1, 1, 1, 0, 1,\n",
       "       1, 1, 1, 1, 1, 1, 0, 1, 1, 1, 0, 1, 1, 1, 1, 1, 1, 0, 1, 1, 1, 1,\n",
       "       0, 1, 1, 1, 1, 1, 1, 1, 1, 1, 1, 1, 1, 1, 1, 0, 1, 1, 1, 1, 1, 0,\n",
       "       1, 1, 1, 1, 1, 1, 1, 1, 1, 1, 0, 1])"
      ]
     },
     "execution_count": 83,
     "metadata": {},
     "output_type": "execute_result"
    }
   ],
   "source": [
    "#Биномизация выборки\n",
    "binary = (data >= 0).astype(int)\n",
    "binary"
   ]
  },
  {
   "cell_type": "code",
   "execution_count": 84,
   "metadata": {},
   "outputs": [
    {
     "name": "stdout",
     "output_type": "stream",
     "text": [
      "binsum = 88\n"
     ]
    }
   ],
   "source": [
    "#Сумма единиц\n",
    "binsum = np.sum(binary)\n",
    "print('binsum = {}'.format(binsum))"
   ]
  },
  {
   "cell_type": "code",
   "execution_count": 85,
   "metadata": {},
   "outputs": [
    {
     "name": "stdout",
     "output_type": "stream",
     "text": [
      "pval = 1.911357536027706e-15\n"
     ]
    }
   ],
   "source": [
    "#Биномиальный тест с двухсторонней альтернативой\n",
    "pval = st.binom_test(binsum, binary.shape[0], p = 0.5, alternative='two-sided')\n",
    "print('pval = {}'.format(pval))"
   ]
  },
  {
   "cell_type": "code",
   "execution_count": 86,
   "metadata": {},
   "outputs": [
    {
     "name": "stdout",
     "output_type": "stream",
     "text": [
      "PR = 65.24443785744714\n"
     ]
    }
   ],
   "source": [
    "#Статистика для критерия отношения правдоподобия\n",
    "#L1 - функция правдоподобия для бернулли при p = 0.5\n",
    "L1 = st.bernoulli.pmf(binary, p = 0.5).prod()\n",
    "#L2 - функция правдоподобия для бернулли при p = ОМП\n",
    "L2 = st.bernoulli.pmf(binary, p = (binsum/binary.shape[0])).prod()\n",
    "LR = -2 * np.log(L1/L2)\n",
    "print('PR = {}'.format(LR))"
   ]
  },
  {
   "cell_type": "code",
   "execution_count": null,
   "metadata": {},
   "outputs": [],
   "source": []
  }
 ],
 "metadata": {
  "kernelspec": {
   "display_name": "Python 3",
   "language": "python",
   "name": "python3"
  },
  "language_info": {
   "codemirror_mode": {
    "name": "ipython",
    "version": 3
   },
   "file_extension": ".py",
   "mimetype": "text/x-python",
   "name": "python",
   "nbconvert_exporter": "python",
   "pygments_lexer": "ipython3",
   "version": "3.7.6"
  }
 },
 "nbformat": 4,
 "nbformat_minor": 4
}
